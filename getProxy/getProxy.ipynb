{
 "cells": [
  {
   "cell_type": "code",
   "execution_count": 9,
   "metadata": {},
   "outputs": [
    {
     "data": {
      "text/plain": [
       "'\\n1、抓取西刺代理网站的代理ip\\n2、并根据指定的目标url,对抓取到ip的有效性进行验证\\n3、最后存到指定的path\\n'"
      ]
     },
     "execution_count": 9,
     "metadata": {},
     "output_type": "execute_result"
    }
   ],
   "source": [
    "#!/usr/bin/env python3\n",
    "# -*- coding: utf-8 -*-\n",
    "import requests,threading,datetime\n",
    "from bs4 import BeautifulSoup\n",
    "import random\n",
    "\n",
    "\"\"\"\n",
    "1、抓取西刺代理网站的代理ip\n",
    "2、并根据指定的目标url,对抓取到ip的有效性进行验证\n",
    "3、最后存到指定的path\n",
    "\"\"\""
   ]
  },
  {
   "cell_type": "code",
   "execution_count": 10,
   "metadata": {},
   "outputs": [],
   "source": [
    "# ------------------------------------------------------文档处理--------------------------------------------------------\n",
    "# 写入文档\n",
    "def write(path,text):\n",
    "    with open(path,'a', encoding='utf-8') as f:\n",
    "        f.writelines(text)\n",
    "        f.write('\\n')\n",
    "# 清空文档\n",
    "def truncatefile(path):\n",
    "    with open(path, 'w', encoding='utf-8') as f:\n",
    "        f.truncate()\n",
    "# 读取文档\n",
    "def read(path):\n",
    "    with open(path, 'r', encoding='utf-8') as f:\n",
    "        txt = []\n",
    "        for s in f.readlines():\n",
    "            txt.append(s.strip())\n",
    "    return txt"
   ]
  },
  {
   "cell_type": "code",
   "execution_count": 11,
   "metadata": {},
   "outputs": [],
   "source": [
    "# 计算时间差,格式: 时分秒\n",
    "def gettimediff(start,end):\n",
    "    seconds = (end - start).seconds\n",
    "    m, s = divmod(seconds, 60)\n",
    "    h, m = divmod(m, 60)\n",
    "    diff = (\"%02d:%02d:%02d\" % (h, m, s))\n",
    "    return diff"
   ]
  },
  {
   "cell_type": "code",
   "execution_count": 12,
   "metadata": {},
   "outputs": [],
   "source": [
    "# 返回一个随机的请求头 headers\n",
    "def getheaders():\n",
    "    user_agent_list = [ \\\n",
    "        \"Mozilla/5.0 (Windows NT 6.1; WOW64) AppleWebKit/537.1 (KHTML, like Gecko) Chrome/22.0.1207.1 Safari/537.1\" \\\n",
    "        \"Mozilla/5.0 (X11; CrOS i686 2268.111.0) AppleWebKit/536.11 (KHTML, like Gecko) Chrome/20.0.1132.57 Safari/536.11\", \\\n",
    "        \"Mozilla/5.0 (Windows NT 6.1; WOW64) AppleWebKit/536.6 (KHTML, like Gecko) Chrome/20.0.1092.0 Safari/536.6\", \\\n",
    "        \"Mozilla/5.0 (Windows NT 6.2) AppleWebKit/536.6 (KHTML, like Gecko) Chrome/20.0.1090.0 Safari/536.6\", \\\n",
    "        \"Mozilla/5.0 (Windows NT 6.2; WOW64) AppleWebKit/537.1 (KHTML, like Gecko) Chrome/19.77.34.5 Safari/537.1\", \\\n",
    "        \"Mozilla/5.0 (X11; Linux x86_64) AppleWebKit/536.5 (KHTML, like Gecko) Chrome/19.0.1084.9 Safari/536.5\", \\\n",
    "        \"Mozilla/5.0 (Windows NT 6.0) AppleWebKit/536.5 (KHTML, like Gecko) Chrome/19.0.1084.36 Safari/536.5\", \\\n",
    "        \"Mozilla/5.0 (Windows NT 6.1; WOW64) AppleWebKit/536.3 (KHTML, like Gecko) Chrome/19.0.1063.0 Safari/536.3\", \\\n",
    "        \"Mozilla/5.0 (Windows NT 5.1) AppleWebKit/536.3 (KHTML, like Gecko) Chrome/19.0.1063.0 Safari/536.3\", \\\n",
    "        \"Mozilla/5.0 (Macintosh; Intel Mac OS X 10_8_0) AppleWebKit/536.3 (KHTML, like Gecko) Chrome/19.0.1063.0 Safari/536.3\", \\\n",
    "        \"Mozilla/5.0 (Windows NT 6.2) AppleWebKit/536.3 (KHTML, like Gecko) Chrome/19.0.1062.0 Safari/536.3\", \\\n",
    "        \"Mozilla/5.0 (Windows NT 6.1; WOW64) AppleWebKit/536.3 (KHTML, like Gecko) Chrome/19.0.1062.0 Safari/536.3\", \\\n",
    "        \"Mozilla/5.0 (Windows NT 6.2) AppleWebKit/536.3 (KHTML, like Gecko) Chrome/19.0.1061.1 Safari/536.3\", \\\n",
    "        \"Mozilla/5.0 (Windows NT 6.1; WOW64) AppleWebKit/536.3 (KHTML, like Gecko) Chrome/19.0.1061.1 Safari/536.3\", \\\n",
    "        \"Mozilla/5.0 (Windows NT 6.1) AppleWebKit/536.3 (KHTML, like Gecko) Chrome/19.0.1061.1 Safari/536.3\", \\\n",
    "        \"Mozilla/5.0 (Windows NT 6.2) AppleWebKit/536.3 (KHTML, like Gecko) Chrome/19.0.1061.0 Safari/536.3\", \\\n",
    "        \"Mozilla/5.0 (X11; Linux x86_64) AppleWebKit/535.24 (KHTML, like Gecko) Chrome/19.0.1055.1 Safari/535.24\", \\\n",
    "        \"Mozilla/5.0 (Windows NT 6.2; WOW64) AppleWebKit/535.24 (KHTML, like Gecko) Chrome/19.0.1055.1 Safari/535.24\"\n",
    "    ]\n",
    "    UserAgent=random.choice(user_agent_list)\n",
    "    headers = {'User-Agent': UserAgent}\n",
    "    return headers"
   ]
  },
  {
   "cell_type": "code",
   "execution_count": 13,
   "metadata": {},
   "outputs": [],
   "source": [
    "# -----------------------------------------------------检查ip是否可用----------------------------------------------------\n",
    "def checkip(targeturl,ip):\n",
    "    headers =getheaders()  # 定制请求头\n",
    "    proxies = {\"http\": \"http://\"+ip, \"https\": \"http://\"+ip}  # 代理ip\n",
    "    try:\n",
    "        response=requests.get(url=targeturl,proxies=proxies,headers=headers,timeout=5).status_code\n",
    "        if response == 200 :\n",
    "            return True\n",
    "        else:\n",
    "            return False\n",
    "    except:\n",
    "        return False"
   ]
  },
  {
   "cell_type": "code",
   "execution_count": 14,
   "metadata": {},
   "outputs": [],
   "source": [
    "#-------------------------------------------------------获取代理方法----------------------------------------------------\n",
    "# 免费代理 XiciDaili\n",
    "def findip(type,pagenum,targeturl,path): # ip类型,页码,目标url,存放ip的路径\n",
    "    list={'1': 'http://www.xicidaili.com/nt/', # xicidaili国内普通代理\n",
    "          '2': 'http://www.xicidaili.com/nn/', # xicidaili国内高匿代理\n",
    "          '3': 'http://www.xicidaili.com/wn/', # xicidaili国内https代理\n",
    "          '4': 'http://www.xicidaili.com/wt/'} # xicidaili国外http代理\n",
    "    url=list[str(type)]+str(pagenum) # 配置url\n",
    "    headers = getheaders() # 定制请求头\n",
    "    html=requests.get(url=url,headers=headers,timeout = 5).text\n",
    "    soup=BeautifulSoup(html,'lxml')\n",
    "    all=soup.find_all('tr',class_='odd')\n",
    "    for i in all:\n",
    "        t=i.find_all('td')\n",
    "        ip=t[1].text+':'+t[2].text\n",
    "        is_avail = checkip(targeturl,ip)\n",
    "        if is_avail == True:\n",
    "            write(path=path,text=ip)\n",
    "            print(ip)"
   ]
  },
  {
   "cell_type": "code",
   "execution_count": 17,
   "metadata": {},
   "outputs": [],
   "source": [
    "#-----------------------------------------------------多线程抓取ip入口---------------------------------------------------\n",
    "def getip(targeturl,path):\n",
    "     truncatefile(path) # 爬取前清空文档\n",
    "     start = datetime.datetime.now() # 开始时间\n",
    "     threads=[]\n",
    "     for type in range(4):   # 四种类型ip,每种类型取前三页,共12条线程\n",
    "         for pagenum in range(3):\n",
    "             t=threading.Thread(target=findip,args=(type+1,pagenum+1,targeturl,path))\n",
    "             threads.append(t)\n",
    "     print('开始爬取代理ip')\n",
    "     for s in threads: # 开启多线程爬取\n",
    "         s.start()\n",
    "     for e in threads: # 等待所有线程结束\n",
    "         e.join()\n",
    "     print('爬取完成')\n",
    "     end = datetime.datetime.now() # 结束时间\n",
    "     diff = gettimediff(start, end)  # 计算耗时\n",
    "     ips = read(path)  # 读取爬到的ip数量\n",
    "     print('一共爬取代理ip: %s 个,共耗时: %s \\n' % (len(ips), diff))"
   ]
  },
  {
   "cell_type": "code",
   "execution_count": 18,
   "metadata": {},
   "outputs": [
    {
     "name": "stdout",
     "output_type": "stream",
     "text": [
      "开始爬取代理ip\n",
      "110.52.235.245:9999\n",
      "115.151.1.58:9999\n",
      "110.52.235.164:9999\n",
      "36.110.234.244:80\n",
      "110.52.235.62:9999\n",
      "110.52.235.3:9999\n",
      "222.44.30.20:8080\n",
      "112.84.50.153:9999\n",
      "218.241.219.226:9999\n",
      "183.63.123.3:56489\n",
      "114.249.114.95:9000\n",
      "110.52.235.225:9999\n",
      "110.52.235.176:9999\n",
      "218.60.8.98:3129\n",
      "110.52.235.24:9999\n",
      "222.217.30.99:9999\n",
      "121.61.3.243:9999\n",
      "61.189.242.243:55484\n",
      "110.52.235.147:9999\n",
      "110.83.40.56:9999\n",
      "110.52.235.161:9999\n",
      "106.14.162.110:8080\n",
      "115.239.25.66:9999\n",
      "111.75.193.22:48449\n",
      "110.52.235.93:9999\n",
      "101.236.42.63:8866\n",
      "202.204.121.126:80\n",
      "182.18.13.149:53281\n",
      "111.176.28.140:9999\n",
      "110.52.235.86:9999\n",
      "110.52.235.201:9999\n",
      "119.145.2.99:44129\n",
      "221.210.120.153:54402\n",
      "110.52.235.172:9999\n",
      "218.22.7.62:53281\n",
      "114.116.10.21:3128\n",
      "116.209.57.154:9999\n",
      "115.151.3.167:9999\n",
      "27.29.77.113:9999\n",
      "61.176.223.7:58822\n",
      "110.52.235.110:9999\n",
      "180.141.90.172:53281\n",
      "110.52.235.177:9999\n",
      "110.52.235.75:9999\n",
      "115.151.5.163:9999\n",
      "183.47.40.35:8088\n",
      "110.52.235.58:9999\n",
      "110.52.235.216:9999\n",
      "110.52.235.236:9999\n",
      "110.52.235.74:9999\n",
      "101.236.42.63:8866\n",
      "116.209.57.241:9999\n",
      "182.61.170.45:3128\n",
      "110.52.235.119:9999\n",
      "110.52.235.86:9999\n",
      "58.17.125.215:53281\n",
      "110.52.235.110:9999\n",
      "116.209.57.44:9999\n",
      "110.52.235.75:9999\n",
      "110.52.235.241:9999\n",
      "101.251.216.103:8080\n",
      "爬取完成\n",
      "一共爬取代理ip: 61 个,共耗时: 00:03:22 \n",
      "\n"
     ]
    }
   ],
   "source": [
    "#-------------------------------------------------------启动-----------------------------------------------------------\n",
    "if __name__ == '__main__':\n",
    "    path = 'ip.txt' # 存放爬取ip的文档path\n",
    "    targeturl = 'http://www.cnblogs.com/TurboWay/' # 验证ip有效性的指定url\n",
    "    getip(targeturl,path)"
   ]
  },
  {
   "cell_type": "code",
   "execution_count": null,
   "metadata": {},
   "outputs": [],
   "source": []
  }
 ],
 "metadata": {
  "kernelspec": {
   "display_name": "Python 3",
   "language": "python",
   "name": "python3"
  },
  "language_info": {
   "codemirror_mode": {
    "name": "ipython",
    "version": 3
   },
   "file_extension": ".py",
   "mimetype": "text/x-python",
   "name": "python",
   "nbconvert_exporter": "python",
   "pygments_lexer": "ipython3",
   "version": "3.7.1"
  }
 },
 "nbformat": 4,
 "nbformat_minor": 2
}
