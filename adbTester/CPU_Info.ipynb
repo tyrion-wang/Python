{
 "cells": [
  {
   "cell_type": "code",
   "execution_count": 41,
   "metadata": {},
   "outputs": [],
   "source": [
    "import os\n",
    "import sys\n",
    "import time\n",
    "\n",
    "def getTemp():\n",
    "    cpuInfo = {}\n",
    "    cpuTypeStr = os.popen('adb shell cat /sys/class/thermal/thermal_zone*/type').read()\n",
    "    cpuTempStr = os.popen('adb shell cat /sys/class/thermal/thermal_zone*/temp').read()\n",
    "\n",
    "    cpuType = cpuTypeStr.split('\\n')\n",
    "    cpuTemp = cpuTempStr.split('\\n')\n",
    "    \n",
    "    #print(cpuType)\n",
    "    #print(cpuType.index('limits_sensor-00'))\n",
    "    \n",
    "    del cpuType[cpuType.index('limits_sensor-00')]\n",
    "    del cpuType[cpuType.index('limits_sensor-01')]\n",
    "    \n",
    "    for i in range(len(cpuType)-1):\n",
    "        #print(cpuTemp[i])\n",
    "        cpuInfo[cpuType[i]] = cpuTemp[i]\n",
    "    \n",
    "    return cpuInfo"
   ]
  },
  {
   "cell_type": "code",
   "execution_count": null,
   "metadata": {},
   "outputs": [],
   "source": []
  },
  {
   "cell_type": "code",
   "execution_count": null,
   "metadata": {},
   "outputs": [],
   "source": []
  }
 ],
 "metadata": {
  "kernelspec": {
   "display_name": "Python 3",
   "language": "python",
   "name": "python3"
  },
  "language_info": {
   "codemirror_mode": {
    "name": "ipython",
    "version": 3
   },
   "file_extension": ".py",
   "mimetype": "text/x-python",
   "name": "python",
   "nbconvert_exporter": "python",
   "pygments_lexer": "ipython3",
   "version": "3.7.1"
  }
 },
 "nbformat": 4,
 "nbformat_minor": 2
}
