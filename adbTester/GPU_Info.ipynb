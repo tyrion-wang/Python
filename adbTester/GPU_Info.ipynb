{
 "cells": [
  {
   "cell_type": "code",
   "execution_count": 8,
   "metadata": {
    "scrolled": true
   },
   "outputs": [
    {
     "name": "stdout",
     "output_type": "stream",
     "text": [
      "{'GPU占用率': '96.3%', 'GPU频率': '596000000'}\n"
     ]
    }
   ],
   "source": [
    "import os\n",
    "import sys\n",
    "import time\n",
    "\n",
    "def getBusy():\n",
    "    gpubusy = os.popen('adb shell cat /sys/class/kgsl/kgsl-3d0/gpubusy').read() #GPU占用\n",
    "    cpuRate = int(gpubusy[0:8])/int(gpubusy[8:16])*100\n",
    "    cur_freq = os.popen('adb shell cat /sys/class/kgsl/kgsl-3d0/devfreq/cur_freq').read() #GPU频率\n",
    "    dict = {'GPU占用率': 1, 'b': 2, 'b': '3'}\n",
    "    #os.system('clear')\n",
    "    gpubusy = \"%.1f%%\" % cpuRate\n",
    "    cur_freq = \"%s\" % cur_freq[0:9]\n",
    "    #print(gpubusy)\n",
    "    #print(cur_freq)\n",
    "    #print('\\r',\"GPU占用率：%.1f%%   GPU频率：%s\" % (cpuRate, cur_freq[0:9]), end='')\n",
    "    gpuInfo = {'GPU占用率': gpubusy, 'GPU频率': cur_freq}\n",
    "    return gpuInfo\n"
   ]
  },
  {
   "cell_type": "code",
   "execution_count": null,
   "metadata": {},
   "outputs": [],
   "source": []
  },
  {
   "cell_type": "code",
   "execution_count": null,
   "metadata": {},
   "outputs": [],
   "source": []
  }
 ],
 "metadata": {
  "kernelspec": {
   "display_name": "Python 3",
   "language": "python",
   "name": "python3"
  },
  "language_info": {
   "codemirror_mode": {
    "name": "ipython",
    "version": 3
   },
   "file_extension": ".py",
   "mimetype": "text/x-python",
   "name": "python",
   "nbconvert_exporter": "python",
   "pygments_lexer": "ipython3",
   "version": "3.7.1"
  }
 },
 "nbformat": 4,
 "nbformat_minor": 2
}
