{
 "cells": [
  {
   "cell_type": "code",
   "execution_count": 1,
   "metadata": {},
   "outputs": [
    {
     "name": "stdout",
     "output_type": "stream",
     "text": [
      "123退出主线程\n",
      "\n",
      "123\n",
      "123\n",
      "123\n",
      "123\n",
      "123\n",
      "123\n",
      "123\n",
      "123\n",
      "123\n",
      "123\n",
      "123\n",
      "123\n",
      "123\n",
      "123\n",
      "123\n"
     ]
    }
   ],
   "source": [
    "#!/usr/bin/python3\n",
    "\n",
    "import threading\n",
    "import time\n",
    "\n",
    "exitFlag = 0\n",
    "\n",
    "class myThread (threading.Thread):\n",
    "    def __init__(self, threadID, name, counter):\n",
    "        threading.Thread.__init__(self)\n",
    "        self.threadID = threadID\n",
    "        self.name = name\n",
    "        self.counter = counter\n",
    "    def run(self):\n",
    "        while 1:\n",
    "            #gpubusy = os.popen('adb shell cat /sys/class/kgsl/kgsl-3d0/gpubusy').read() #GPU占用\n",
    "            #cpuRate = int(gpubusy[0:8])/int(gpubusy[8:16])*100\n",
    "            #cur_freq = os.popen('adb shell cat /sys/class/kgsl/kgsl-3d0/devfreq/cur_freq').read() #GPU频率\n",
    "            #print('\\r',\"GPU占用率：%.1f%%   GPU频率：%s\" % (cpuRate, cur_freq[0:9]), end='')\n",
    "            print(\"123\")\n",
    "            time.sleep(0.5)\n",
    "\n",
    "\n",
    "# 创建新线程\n",
    "thread1 = myThread(1, \"Thread-1\", 1)\n",
    "\n",
    "# 开启新线程\n",
    "thread1.start()\n",
    "#thread1.join()\n",
    "print (\"退出主线程\")"
   ]
  },
  {
   "cell_type": "code",
   "execution_count": null,
   "metadata": {},
   "outputs": [],
   "source": [
    "thread1."
   ]
  }
 ],
 "metadata": {
  "kernelspec": {
   "display_name": "Python 3",
   "language": "python",
   "name": "python3"
  },
  "language_info": {
   "codemirror_mode": {
    "name": "ipython",
    "version": 3
   },
   "file_extension": ".py",
   "mimetype": "text/x-python",
   "name": "python",
   "nbconvert_exporter": "python",
   "pygments_lexer": "ipython3",
   "version": "3.7.1"
  }
 },
 "nbformat": 4,
 "nbformat_minor": 2
}
